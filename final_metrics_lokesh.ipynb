{
  "nbformat": 4,
  "nbformat_minor": 0,
  "metadata": {
    "colab": {
      "provenance": []
    },
    "kernelspec": {
      "name": "python3",
      "display_name": "Python 3"
    },
    "language_info": {
      "name": "python"
    }
  },
  "cells": [
    {
      "cell_type": "code",
      "metadata": {
        "id": "f39417c7"
      },
      "source": [
        "import pandas as pd\n",
        "import matplotlib.pyplot as plt\n",
        "import re\n",
        "import numpy as np\n",
        "df = pd.read_csv(\"/content/merged_input.csv\")\n",
        "display(df.head())"
      ],
      "execution_count": null,
      "outputs": []
    },
    {
      "cell_type": "markdown",
      "source": [
        "User Session Distribution by Hour of Day"
      ],
      "metadata": {
        "id": "X5UZySLqOUB7"
      }
    },
    {
      "cell_type": "code",
      "metadata": {
        "id": "f53b78af"
      },
      "source": [
        "# convert timestamp and extract hour\n",
        "df['StartLocale'] = pd.to_datetime(df['StartLocale'])\n",
        "df['SessionStartHour'] = df['StartLocale'].dt.hour\n",
        "\n",
        "# count sessions per hour\n",
        "session_hour_freq = df['SessionStartHour'].value_counts().sort_index().reset_index()\n",
        "session_hour_freq.columns = ['SessionStartHour', 'Frequency']\n",
        "\n",
        "# show output\n",
        "print(session_hour_freq.head())\n",
        "\n",
        "# optional visualization\n",
        "plt.figure(figsize=(10, 6))\n",
        "plt.bar(session_hour_freq['SessionStartHour'], session_hour_freq['Frequency'], edgecolor='black')\n",
        "plt.title('User Session Distribution by Hour of Day')\n",
        "plt.xlabel('Hour of Day')\n",
        "plt.ylabel('Session Count')\n",
        "plt.xticks(range(0, 24))\n",
        "plt.grid(axis='y', alpha=0.75)\n",
        "plt.show()\n"
      ],
      "execution_count": null,
      "outputs": []
    },
    {
      "cell_type": "markdown",
      "source": [
        "Session Duration Patterns by Day Type"
      ],
      "metadata": {
        "id": "yI1SEzfKRyOd"
      }
    },
    {
      "cell_type": "code",
      "metadata": {
        "id": "3e55c7ff"
      },
      "source": [
        "# convert times and handle overnight sessions\n",
        "df['SessionStart'] = pd.to_datetime(df['SessionStart'], format='%H:%M:%S')\n",
        "df['SessionEnd'] = pd.to_datetime(df['SessionEnd'], format='%H:%M:%S')\n",
        "df['SessionDuration'] = (df['SessionEnd'] - df['SessionStart']).dt.total_seconds()\n",
        "df.loc[df['SessionDuration'] < 0, 'SessionDuration'] += 24 * 3600\n",
        "\n",
        "# map day type to readable labels\n",
        "df['DayTypeFull'] = df['DayType'].map({'wd': 'Weekday', 'we': 'Weekend'})\n",
        "\n",
        "# average duration per day type\n",
        "avg_duration_daytype = df.groupby('DayTypeFull')['SessionDuration'].mean().reset_index()\n",
        "avg_duration_daytype['SessionDurationMinutes'] = avg_duration_daytype['SessionDuration'] / 60\n",
        "\n",
        "# show output\n",
        "print(avg_duration_daytype)\n",
        "\n",
        "# optional pie chart\n",
        "plt.figure(figsize=(8, 8))\n",
        "plt.pie(avg_duration_daytype['SessionDurationMinutes'],\n",
        "        labels=avg_duration_daytype['DayTypeFull'],\n",
        "        autopct='%1.1f%%', startangle=140)\n",
        "plt.title('Average Session Duration (Weekend vs Weekday)')\n",
        "plt.show()\n"
      ],
      "execution_count": null,
      "outputs": []
    },
    {
      "cell_type": "markdown",
      "source": [
        "User Engagement Duration by Geographic Location"
      ],
      "metadata": {
        "id": "seV-vNyjRzSL"
      }
    },
    {
      "cell_type": "code",
      "metadata": {
        "id": "2366651d"
      },
      "source": [
        "# convert timestamps and handle overnight sessions\n",
        "df['SessionStart'] = pd.to_datetime(df['SessionStart'], format='%H:%M:%S')\n",
        "df['SessionEnd'] = pd.to_datetime(df['SessionEnd'], format='%H:%M:%S')\n",
        "df['SessionDuration'] = (df['SessionEnd'] - df['SessionStart']).dt.total_seconds()\n",
        "df.loc[df['SessionDuration'] < 0, 'SessionDuration'] += 24 * 3600\n",
        "df['SessionDurationMinutes'] = df['SessionDuration'] / 60\n",
        "\n",
        "# average duration per location\n",
        "location_duration = df.groupby('Location')['SessionDurationMinutes'].mean().reset_index()\n",
        "\n",
        "# top 10 locations by average duration\n",
        "top_10_locations = location_duration.sort_values(by='SessionDurationMinutes', ascending=False).head(10)\n",
        "\n",
        "# show output\n",
        "print(top_10_locations)\n",
        "\n",
        "# optional bar chart\n",
        "plt.figure(figsize=(12, 6))\n",
        "plt.bar(top_10_locations['Location'], top_10_locations['SessionDurationMinutes'], color='skyblue')\n",
        "plt.title('Average Session Duration by Location (Top 10)')\n",
        "plt.xlabel('Location')\n",
        "plt.ylabel('Average Session Duration (minutes)')\n",
        "plt.xticks(rotation=45, ha='right')\n",
        "plt.tight_layout()\n",
        "plt.show()\n"
      ],
      "execution_count": null,
      "outputs": []
    },
    {
      "cell_type": "markdown",
      "source": [
        "Widget Load Performance by Operating System"
      ],
      "metadata": {
        "id": "dyfc9IO1R1Go"
      }
    },
    {
      "cell_type": "code",
      "source": [
        "# extract OS from user agent\n",
        "def extract_os(user_agent):\n",
        "    if pd.isna(user_agent):\n",
        "        return 'Unknown'\n",
        "    os_patterns = [\n",
        "        ('Windows', r'Windows NT [0-9\\.]+'),\n",
        "        ('MacOS', r'Macintosh; Intel Mac OS X [0-9_]+'),\n",
        "        ('iOS', r'iPhone|iPad'),\n",
        "        ('Android', r'Android [0-9\\.]+'),\n",
        "        ('Linux', r'Linux'),\n",
        "    ]\n",
        "    for os_name, pattern in os_patterns:\n",
        "        if re.search(pattern, user_agent):\n",
        "            return os_name\n",
        "    return 'Other'\n",
        "\n",
        "# apply OS extraction\n",
        "df['OS'] = df['UserAgent'].apply(extract_os)\n",
        "\n",
        "# average widget load time per OS\n",
        "avg_widget_load_os = df.groupby('OS')['WidgetLoadTime'].mean().reset_index()\n",
        "avg_widget_load_os.rename(columns={'WidgetLoadTime': 'AvgWidgetLoadTime'}, inplace=True)\n",
        "\n",
        "# show output\n",
        "print(avg_widget_load_os)\n",
        "\n",
        "# optional bar chart\n",
        "plt.figure(figsize=(10, 6))\n",
        "plt.bar(avg_widget_load_os['OS'], avg_widget_load_os['AvgWidgetLoadTime'], color='orange', edgecolor='black')\n",
        "plt.title('Average Widget Load Time by OS')\n",
        "plt.xlabel('Operating System')\n",
        "plt.ylabel('Average Widget Load Time (seconds)')\n",
        "plt.xticks(rotation=45, ha='right')\n",
        "plt.tight_layout()\n",
        "plt.show()\n"
      ],
      "metadata": {
        "id": "ZzCV_OcqgmEg"
      },
      "execution_count": null,
      "outputs": []
    },
    {
      "cell_type": "markdown",
      "source": [
        "Device Usage Patterns Across Top Locations"
      ],
      "metadata": {
        "id": "8FGlHBnTSK8-"
      }
    },
    {
      "cell_type": "code",
      "metadata": {
        "id": "5dc3f690"
      },
      "source": [
        "# count sessions per location and device\n",
        "location_device_counts = df.groupby(['Location', 'Device']).size().reset_index(name='Count')\n",
        "\n",
        "# find top 15 locations by total sessions\n",
        "top_locations = df['Location'].value_counts().head(15).index\n",
        "\n",
        "# keep only top locations\n",
        "location_device_counts_top = location_device_counts[location_device_counts['Location'].isin(top_locations)]\n",
        "\n",
        "# pivot and compute percentage share per location\n",
        "location_device_pivot = location_device_counts_top.pivot_table(index='Location', columns='Device', values='Count', fill_value=0)\n",
        "location_device_percentage = location_device_pivot.apply(lambda x: x / x.sum() * 100, axis=1)\n",
        "\n",
        "# show output\n",
        "print(location_device_percentage)\n",
        "\n",
        "# optional stacked bar chart\n",
        "location_device_percentage.plot(kind='bar', stacked=True, figsize=(15, 8))\n",
        "plt.title('Device Preferences by Location (Top 15 Locations)')\n",
        "plt.xlabel('Location')\n",
        "plt.ylabel('Percentage of Sessions')\n",
        "plt.xticks(rotation=45, ha='right')\n",
        "plt.legend(title='Device')\n",
        "plt.tight_layout()\n",
        "plt.show()\n"
      ],
      "execution_count": null,
      "outputs": []
    },
    {
      "cell_type": "markdown",
      "source": [
        "Conversion Rate Trends Across Month Segments and Devices"
      ],
      "metadata": {
        "id": "Y-n_VB7LSYuU"
      }
    },
    {
      "cell_type": "code",
      "metadata": {
        "id": "9ae5990b"
      },
      "source": [
        "# ensure column names are lowercase\n",
        "df.columns = df.columns.str.strip().str.lower()\n",
        "\n",
        "# check required columns\n",
        "required_cols = ['date', 'addtocart', 'recipesaved', 'device']\n",
        "for col in required_cols:\n",
        "    if col not in df.columns:\n",
        "        raise ValueError(f\"Missing required column: '{col}' in dataset.\")\n",
        "\n",
        "# convert date and get month part\n",
        "df['date'] = pd.to_datetime(df['date'], errors='coerce')\n",
        "df = df.dropna(subset=['date'])\n",
        "\n",
        "def get_month_part(day):\n",
        "    if 1 <= day <= 10:\n",
        "        return 'Beg'\n",
        "    elif 11 <= day <= 20:\n",
        "        return 'Mid'\n",
        "    else:\n",
        "        return 'End'\n",
        "\n",
        "df['monthpart'] = df['date'].dt.day.apply(get_month_part)\n",
        "\n",
        "# mark conversions\n",
        "df['converted'] = (df['addtocart'] == True) | (df['recipesaved'] == True)\n",
        "\n",
        "# total and converted sessions\n",
        "group_cols = ['monthpart', 'device']\n",
        "total_sessions = df.groupby(group_cols).size().reset_index(name='TotalSessions')\n",
        "converted_sessions = df[df['converted'] == True].groupby(group_cols).size().reset_index(name='ConvertedSessions')\n",
        "\n",
        "# merge and compute conversion rate\n",
        "conversion_rate_df = pd.merge(total_sessions, converted_sessions, on=group_cols, how='left')\n",
        "conversion_rate_df['ConvertedSessions'] = conversion_rate_df['ConvertedSessions'].fillna(0)\n",
        "conversion_rate_df['ConversionRate'] = (conversion_rate_df['ConvertedSessions'] / conversion_rate_df['TotalSessions']) * 100\n",
        "\n",
        "# order by month part\n",
        "month_order = ['Beg', 'Mid', 'End']\n",
        "conversion_rate_df['monthpart'] = pd.Categorical(conversion_rate_df['monthpart'], categories=month_order, ordered=True)\n",
        "conversion_rate_df = conversion_rate_df.sort_values(['monthpart', 'device'])\n",
        "\n",
        "# show output\n",
        "print(\"Conversion Rate by Month Part and Device:\")\n",
        "print(conversion_rate_df.head(10))\n",
        "\n",
        "# optional grouped bar chart\n",
        "plt.figure(figsize=(9, 6))\n",
        "devices = conversion_rate_df['device'].unique()\n",
        "x = range(len(month_order))\n",
        "bar_width = 0.2\n",
        "\n",
        "for i, device in enumerate(devices):\n",
        "    subset = conversion_rate_df[conversion_rate_df['device'] == device]\n",
        "    plt.bar(\n",
        "        [p + i * bar_width for p in x],\n",
        "        subset['ConversionRate'],\n",
        "        width=bar_width,\n",
        "        label=device\n",
        "    )\n",
        "\n",
        "plt.title('Conversion Rate by Month Part and Device')\n",
        "plt.xlabel('Month Part')\n",
        "plt.ylabel('Conversion Rate (%)')\n",
        "plt.xticks([p + bar_width for p in x], month_order)\n",
        "plt.ylim(0, 100)\n",
        "plt.legend(title=\"Device\")\n",
        "plt.tight_layout()\n",
        "plt.show()\n"
      ],
      "execution_count": null,
      "outputs": []
    },
    {
      "cell_type": "markdown",
      "source": [
        "Tab Switching Patterns Across Devices"
      ],
      "metadata": {
        "id": "6Ip-ZejQSqZL"
      }
    },
    {
      "cell_type": "code",
      "metadata": {
        "id": "98cf4613"
      },
      "source": [
        "# percentage of TabChange (True/False) by Device\n",
        "tab_change_by_device = df.groupby('Device')['TabChange'].value_counts(normalize=True).unstack().fillna(0) * 100\n",
        "\n",
        "# show result\n",
        "print(tab_change_by_device)\n",
        "\n",
        "# stacked bar chart\n",
        "tab_change_by_device.plot(kind='bar', stacked=True, figsize=(10, 6))\n",
        "plt.title('Tab Changing Behaviour by Device')\n",
        "plt.xlabel('Device')\n",
        "plt.ylabel('Percentage of Sessions')\n",
        "plt.xticks(rotation=0)\n",
        "plt.legend(title='Tab Change')\n",
        "plt.tight_layout()\n",
        "plt.show()\n"
      ],
      "execution_count": null,
      "outputs": []
    },
    {
      "cell_type": "markdown",
      "source": [
        "User Pantry Size Distribution"
      ],
      "metadata": {
        "id": "8utFITMZTXv2"
      }
    },
    {
      "cell_type": "code",
      "source": [
        "# compute pantry size per row\n",
        "def calculate_pantry_size(pantry_items):\n",
        "    if pd.isna(pantry_items):\n",
        "        return 0\n",
        "    return len(pantry_items.split(';'))\n",
        "\n",
        "df['PantrySize'] = df['Pantry'].apply(calculate_pantry_size)\n",
        "\n",
        "# avg pantry size per user\n",
        "average_pantry_size_per_user = df.groupby('UserID')['PantrySize'].mean().reset_index()\n",
        "average_pantry_size_per_user = average_pantry_size_per_user[average_pantry_size_per_user['PantrySize'] > 0]\n",
        "\n",
        "print(f\"Number of users with a pantry: {len(average_pantry_size_per_user)}\")\n",
        "print(average_pantry_size_per_user.head())\n",
        "\n",
        "# summarize counts by rounded pantry size\n",
        "average_pantry_size_per_user['PantrySizeRounded'] = (\n",
        "    average_pantry_size_per_user['PantrySize'].round().astype(int)\n",
        ")\n",
        "\n",
        "# create frequency table manually\n",
        "pantry_summary = (\n",
        "    average_pantry_size_per_user.groupby('PantrySizeRounded')\n",
        "    .size()\n",
        "    .reset_index(name='NumberOfUsers')\n",
        "    .rename(columns={'PantrySizeRounded': 'AveragePantrySize'})\n",
        "    .sort_values('AveragePantrySize')\n",
        ")\n",
        "\n",
        "print(pantry_summary)\n",
        "\n",
        "# bar chart\n",
        "plt.figure(figsize=(12, 6))\n",
        "plt.bar(\n",
        "    pantry_summary['AveragePantrySize'],\n",
        "    pantry_summary['NumberOfUsers'],\n",
        "    color='lightgreen',\n",
        "    edgecolor='black'\n",
        ")\n",
        "plt.title('Distribution of Average Pantry Size Per User')\n",
        "plt.xlabel('Average Pantry Size')\n",
        "plt.ylabel('Number of Users')\n",
        "plt.xticks(pantry_summary['AveragePantrySize'])\n",
        "plt.tight_layout()\n",
        "plt.show()\n"
      ],
      "metadata": {
        "id": "HkoEpLIjlh9b"
      },
      "execution_count": null,
      "outputs": []
    },
    {
      "cell_type": "markdown",
      "source": [
        "User Composition: Anonymous vs Registered"
      ],
      "metadata": {
        "id": "IQUC6ZR5T3QT"
      }
    },
    {
      "cell_type": "code",
      "metadata": {
        "id": "ce57f966"
      },
      "source": [
        "# classify users as anonymous or registered\n",
        "df['UserType'] = df['UserID'].apply(\n",
        "    lambda x: 'Anonymous' if str(x).lower().startswith('anon') else 'Registered'\n",
        ")\n",
        "\n",
        "# percentage of each type\n",
        "user_type_counts = df['UserType'].value_counts(normalize=True) * 100\n",
        "\n",
        "# tidy dataframe\n",
        "user_type_df = pd.DataFrame({\n",
        "    'UserType': user_type_counts.index,\n",
        "    'Percentage': user_type_counts.values\n",
        "})\n",
        "\n",
        "# show summary\n",
        "print(user_type_df)\n",
        "\n",
        "# pie chart\n",
        "plt.figure(figsize=(6, 6))\n",
        "plt.pie(\n",
        "    user_type_df['Percentage'],\n",
        "    labels=user_type_df['UserType'],\n",
        "    autopct='%1.1f%%',\n",
        "    startangle=90\n",
        ")\n",
        "plt.title('Anonymous vs Registered Users')\n",
        "plt.axis('equal')\n",
        "plt.show()\n"
      ],
      "execution_count": null,
      "outputs": []
    },
    {
      "cell_type": "markdown",
      "source": [
        "Recipe Exploration Depth per Session"
      ],
      "metadata": {
        "id": "JjnKrrPWUBp7"
      }
    },
    {
      "cell_type": "code",
      "metadata": {
        "id": "05fa7446"
      },
      "source": [
        "recipes_viewed_summary = df['RecipesViewedPerSession'].value_counts().sort_index()\n",
        "recipes_viewed_summary.plot(kind='bar', figsize=(12, 6), color='skyblue', edgecolor='black')\n",
        "plt.title('Number of Recipes Viewed per Session')\n",
        "plt.xlabel('Recipes Viewed per Session')\n",
        "plt.ylabel('Number of Sessions')\n",
        "plt.tight_layout()\n",
        "plt.show()\n"
      ],
      "execution_count": null,
      "outputs": []
    },
    {
      "cell_type": "markdown",
      "source": [
        "Ingredient Purchase Patterns by Time of Day"
      ],
      "metadata": {
        "id": "M5SaHbBVUNFS"
      }
    },
    {
      "cell_type": "code",
      "metadata": {
        "id": "41c724e7"
      },
      "source": [
        "def count_added_to_cart_items(items):\n",
        "    if pd.isna(items) or str(items).strip() == '':\n",
        "        return 0\n",
        "    return len([i.strip() for i in items.split(';') if i.strip() != ''])\n",
        "\n",
        "df['AddedToCartCount'] = df['AddedToCartItems'].apply(count_added_to_cart_items)\n",
        "\n",
        "# extract hour if not already present\n",
        "if 'SessionStartHour' not in df.columns:\n",
        "    df['StartLocale'] = pd.to_datetime(df['StartLocale'], errors='coerce')\n",
        "    df['SessionStartHour'] = df['StartLocale'].dt.hour\n",
        "\n",
        "# average ingredients bought by session hour\n",
        "average_added_to_cart_by_hour = (\n",
        "    df.groupby('SessionStartHour')['AddedToCartCount']\n",
        "    .mean()\n",
        "    .reset_index()\n",
        "    .sort_values('SessionStartHour')\n",
        ")\n",
        "\n",
        "print(average_added_to_cart_by_hour)\n",
        "\n",
        "# simple line plot\n",
        "plt.figure(figsize=(12, 6))\n",
        "plt.plot(\n",
        "    average_added_to_cart_by_hour['SessionStartHour'],\n",
        "    average_added_to_cart_by_hour['AddedToCartCount'],\n",
        "    marker='o',\n",
        "    color='green'\n",
        ")\n",
        "plt.title('Average Number of Ingredients Bought vs Time of Day')\n",
        "plt.xlabel('Session Start Hour')\n",
        "plt.ylabel('Average Number of Ingredients Bought')\n",
        "plt.xticks(range(0, 24))\n",
        "plt.grid(True)\n",
        "plt.tight_layout()\n",
        "plt.show()"
      ],
      "execution_count": null,
      "outputs": []
    },
    {
      "cell_type": "markdown",
      "source": [
        "Ingredient Purchase Patterns Across Top Locations"
      ],
      "metadata": {
        "id": "oT4hRx__UZwh"
      }
    },
    {
      "cell_type": "code",
      "metadata": {
        "id": "38f4f58f"
      },
      "source": [
        "# count items in AddedToCartItems\n",
        "def count_added_to_cart_items(items):\n",
        "    if pd.isna(items) or str(items).strip() == '':\n",
        "        return 0\n",
        "    return len([i.strip() for i in items.split(';') if i.strip() != ''])\n",
        "\n",
        "# apply function\n",
        "df['AddedToCartCount'] = df['AddedToCartItems'].apply(count_added_to_cart_items)\n",
        "\n",
        "# average number of ingredients added to cart by location\n",
        "average_added_to_cart_by_location = (\n",
        "    df.groupby('Location')['AddedToCartCount']\n",
        "    .mean()\n",
        "    .reset_index()\n",
        ")\n",
        "\n",
        "# top 10 locations\n",
        "top_10_locations_added_to_cart = (\n",
        "    average_added_to_cart_by_location\n",
        "    .sort_values(by='AddedToCartCount', ascending=False)\n",
        "    .head(10)\n",
        ")\n",
        "\n",
        "print(top_10_locations_added_to_cart)\n",
        "\n",
        "# simple bar chart\n",
        "plt.figure(figsize=(12, 6))\n",
        "plt.bar(\n",
        "    top_10_locations_added_to_cart['Location'],\n",
        "    top_10_locations_added_to_cart['AddedToCartCount'],\n",
        "    color='teal',\n",
        "    edgecolor='black'\n",
        ")\n",
        "plt.title('Average Number of Ingredients Added to Cart by Location (Top 10)')\n",
        "plt.xlabel('Location')\n",
        "plt.ylabel('Average Number of Ingredients Added to Cart')\n",
        "plt.xticks(rotation=45, ha='right')\n",
        "plt.tight_layout()\n",
        "plt.show()\n"
      ],
      "execution_count": null,
      "outputs": []
    },
    {
      "cell_type": "markdown",
      "source": [
        "Top User Locations by Partner"
      ],
      "metadata": {
        "id": "29Qs2keOUm7C"
      }
    },
    {
      "cell_type": "code",
      "source": [
        "# count sessions per PartnerID and Location\n",
        "partner_location_counts = (\n",
        "    df.groupby(['PartnerID', 'Location'])\n",
        "    .size()\n",
        "    .reset_index(name='SessionCount')\n",
        ")\n",
        "\n",
        "# find top location per partner\n",
        "idx = partner_location_counts.groupby('PartnerID')['SessionCount'].idxmax()\n",
        "top_location_per_partner = partner_location_counts.loc[idx].reset_index(drop=True)\n",
        "\n",
        "print(top_location_per_partner)\n",
        "\n",
        "# simple bar chart\n",
        "plt.figure(figsize=(12, 6))\n",
        "plt.bar(\n",
        "    top_location_per_partner['PartnerID'],\n",
        "    top_location_per_partner['SessionCount'],\n",
        "    color='skyblue',\n",
        "    edgecolor='black'\n",
        ")\n",
        "plt.xticks(rotation=45, ha='right')\n",
        "plt.title('Top Location by Sessions for Each Partner')\n",
        "plt.xlabel('PartnerID')\n",
        "plt.ylabel('Number of Sessions')\n",
        "plt.tight_layout()\n",
        "plt.show()\n"
      ],
      "metadata": {
        "id": "BEVS1LmeuA-c"
      },
      "execution_count": null,
      "outputs": []
    },
    {
      "cell_type": "markdown",
      "source": [
        "Session Duration Patterns Across Devices"
      ],
      "metadata": {
        "id": "H3By1bGTUq75"
      }
    },
    {
      "cell_type": "code",
      "metadata": {
        "id": "4758ac14"
      },
      "source": [
        "# convert session times to datetime\n",
        "df['SessionStart'] = pd.to_datetime(df['SessionStart'])\n",
        "df['SessionEnd'] = pd.to_datetime(df['SessionEnd'])\n",
        "\n",
        "# calculate session duration (in minutes)\n",
        "df['SessionDuration'] = (df['SessionEnd'] - df['SessionStart']).dt.total_seconds() / 60\n",
        "df = df[df['SessionDuration'] >= 0]  # remove negatives\n",
        "\n",
        "# average session duration by device\n",
        "avg_duration = df.groupby('Device')['SessionDuration'].mean().reset_index()\n",
        "print(avg_duration)\n",
        "\n",
        "# bar chart\n",
        "plt.figure(figsize=(10, 6))\n",
        "plt.bar(avg_duration['Device'], avg_duration['SessionDuration'], color='teal', edgecolor='black')\n",
        "plt.title('Average Session Duration by Device')\n",
        "plt.xlabel('Device')\n",
        "plt.ylabel('Average Session Duration (minutes)')\n",
        "plt.tight_layout()\n",
        "plt.show()\n"
      ],
      "execution_count": null,
      "outputs": []
    },
    {
      "cell_type": "markdown",
      "source": [
        "Ingredient Purchase Patterns Across Month Segments"
      ],
      "metadata": {
        "id": "oIh9mwxrVGNA"
      }
    },
    {
      "cell_type": "code",
      "metadata": {
        "id": "24ce542e"
      },
      "source": [
        "df.columns = df.columns.str.strip().str.lower()\n",
        "\n",
        "def count_added_to_cart_items(items):\n",
        "    if pd.isna(items) or str(items).strip() == '':\n",
        "        return 0\n",
        "    return len([i.strip() for i in str(items).split(';') if i.strip() != ''])\n",
        "\n",
        "df['addedtocartcount'] = df['addedtocartitems'].apply(count_added_to_cart_items)\n",
        "df_nonempty = df[df['addedtocartcount'] > 0].copy()\n",
        "\n",
        "df_nonempty['date'] = pd.to_datetime(df_nonempty['date'], errors='coerce')\n",
        "df_nonempty = df_nonempty.dropna(subset=['date'])\n",
        "\n",
        "def month_part(day):\n",
        "    if day <= 10: return 'beg'\n",
        "    elif day <= 20: return 'mid'\n",
        "    return 'end'\n",
        "\n",
        "df_nonempty['monthpart'] = df_nonempty['date'].dt.day.apply(month_part)\n",
        "\n",
        "avg_cart = (\n",
        "    df_nonempty.groupby('monthpart')['addedtocartcount']\n",
        "    .mean()\n",
        "    .reindex(['beg', 'mid', 'end'])\n",
        "    .reset_index()\n",
        ")\n",
        "\n",
        "print(avg_cart)\n",
        "\n",
        "plt.figure(figsize=(8, 6))\n",
        "plt.bar(avg_cart['monthpart'], avg_cart['addedtocartcount'], color='orange', edgecolor='black')\n",
        "plt.title('Average Ingredients Bought by Month Part (Non-Empty Carts)')\n",
        "plt.xlabel('Month Part')\n",
        "plt.ylabel('Average Ingredients Bought')\n",
        "plt.tight_layout()\n",
        "plt.show()\n"
      ],
      "execution_count": null,
      "outputs": []
    },
    {
      "cell_type": "markdown",
      "source": [
        "Device Usage Distribution Across Partners        \n"
      ],
      "metadata": {
        "id": "zcS32MnAVPGK"
      }
    },
    {
      "cell_type": "code",
      "source": [
        "partner_device = (\n",
        "    df.groupby(['PartnerID', 'Device'])\n",
        "    .size()\n",
        "    .unstack(fill_value=0)\n",
        ")\n",
        "\n",
        "print(partner_device)\n",
        "\n",
        "with pd.ExcelWriter('/content/merged_input.xlsx', mode='a', engine='openpyxl', if_sheet_exists='replace') as w:\n",
        "    partner_device.to_excel(w, sheet_name='Lokeshvar_Partner_Device')\n",
        "\n",
        "partner_device.plot(kind='bar', stacked=True, figsize=(12, 6))\n",
        "plt.title('Partner Preference by Device')\n",
        "plt.xlabel('PartnerID')\n",
        "plt.ylabel('Number of Sessions')\n",
        "plt.xticks(rotation=45, ha='right')\n",
        "plt.tight_layout()\n",
        "plt.show()\n"
      ],
      "metadata": {
        "id": "Ba3VUWavukbO"
      },
      "execution_count": null,
      "outputs": []
    },
    {
      "cell_type": "markdown",
      "source": [
        "Device Usage Patterns Across Different Times of Day"
      ],
      "metadata": {
        "id": "u8vNFWkpVZG-"
      }
    },
    {
      "cell_type": "code",
      "metadata": {
        "id": "7fb70d02"
      },
      "source": [
        "# --------------------------\n",
        "# Metric: Device Preferences by Time of Day\n",
        "# --------------------------\n",
        "\n",
        "# Ensure SessionStartHour exists (if not, extract from SessionStart)\n",
        "if 'SessionStartHour' not in df.columns:\n",
        "    df['SessionStart'] = pd.to_datetime(df['SessionStart'], errors='coerce')\n",
        "    df = df.dropna(subset=['SessionStart'])\n",
        "    df['SessionStartHour'] = df['SessionStart'].dt.hour\n",
        "\n",
        "# Replace missing devices (if any)\n",
        "df['Device'] = df['Device'].fillna('Unknown')\n",
        "\n",
        "# Count sessions per SessionStartHour and Device\n",
        "time_device_counts = df.groupby(['SessionStartHour', 'Device']).size().reset_index(name='Count')\n",
        "\n",
        "# Pivot for visualization\n",
        "time_device_pivot = time_device_counts.pivot_table(index='SessionStartHour', columns='Device', values='Count', fill_value=0)\n",
        "\n",
        "# Calculate percentages for stacked visualization\n",
        "time_device_percentage = time_device_pivot.apply(lambda x: x / x.sum() * 100, axis=1).sort_index()\n",
        "\n",
        "print(time_device_percentage.head())\n",
        "\n",
        "# --------------------------\n",
        "# Visualization: Stacked Bar Chart\n",
        "# --------------------------\n",
        "time_device_percentage.plot(kind='bar', stacked=True, figsize=(15, 8))\n",
        "plt.title('Device Preferences by Time of Day (Session Start Hour)')\n",
        "plt.xlabel('Session Start Hour')\n",
        "plt.ylabel('Percentage of Sessions')\n",
        "plt.xticks(rotation=0)\n",
        "plt.legend(title='Device')\n",
        "plt.tight_layout()\n",
        "plt.show()\n"
      ],
      "execution_count": null,
      "outputs": []
    },
    {
      "cell_type": "markdown",
      "source": [
        "Chat-First Engagement Rate  "
      ],
      "metadata": {
        "id": "94vLj-q_VtWm"
      }
    },
    {
      "cell_type": "code",
      "source": [
        "# -----------------------------\n",
        "# Metric: Chat Interaction First After Widget\n",
        "# -----------------------------\n",
        "\n",
        "# Function to identify if chat was first action after \"Widget opened\"\n",
        "def chat_first_after_widget(activity_log):\n",
        "    if pd.isna(activity_log):\n",
        "        return 0\n",
        "    actions = [act.strip() for act in str(activity_log).split(';') if act.strip()]\n",
        "    try:\n",
        "        # Find index of 'widget opened'\n",
        "        widget_index = next(i for i, act in enumerate(actions) if 'widget opened' in act.lower())\n",
        "    except StopIteration:\n",
        "        return 0  # No widget opened in this session\n",
        "\n",
        "    # Consider only actions after 'widget opened'\n",
        "    post_widget_actions = actions[widget_index + 1:]\n",
        "    # Ignore noise\n",
        "    post_widget_actions = [\n",
        "        act for act in post_widget_actions\n",
        "        if 'viewed recipes before widget' not in act.lower()\n",
        "        and 'tab changes' not in act.lower()\n",
        "    ]\n",
        "\n",
        "    if not post_widget_actions:\n",
        "        return 0\n",
        "\n",
        "    # Check if first post-widget action was chat\n",
        "    return int('interacted with chat' in post_widget_actions[0].lower())\n",
        "\n",
        "# Apply logic\n",
        "df['ChatFirstAfterWidget'] = df['ActivityLog'].apply(chat_first_after_widget)\n",
        "\n",
        "# Count totals\n",
        "total_widget_sessions = df['ActivityLog'].apply(lambda x: 'widget opened' in str(x).lower()).sum()\n",
        "chat_first_count = df['ChatFirstAfterWidget'].sum()\n",
        "\n",
        "# Build summary DataFrame\n",
        "chat_widget_summary = pd.DataFrame({\n",
        "    'Metric': ['Chat Interaction First After Widget'],\n",
        "    'SessionsWithChatFirst': [chat_first_count],\n",
        "    'TotalWidgetSessions': [total_widget_sessions],\n",
        "    'Percentage': [chat_first_count / total_widget_sessions * 100 if total_widget_sessions > 0 else 0]\n",
        "})\n",
        "\n",
        "print(\"Summary of Chat Interaction After Widget Opened:\")\n",
        "print(chat_widget_summary)\n",
        "\n",
        "# -----------------------------\n",
        "# Visualization: Pie Chart\n",
        "# -----------------------------\n",
        "plt.figure(figsize=(6,6))\n",
        "labels = ['Chat First After Widget', 'Other Actions First']\n",
        "sizes = [chat_first_count, total_widget_sessions - chat_first_count]\n",
        "colors = ['#66b3ff', '#ff9999']\n",
        "plt.pie(sizes, labels=labels, colors=colors, autopct='%1.1f%%', startangle=90)\n",
        "plt.title('Chat Interaction First After Widget')\n",
        "plt.axis('equal')\n",
        "plt.show()\n"
      ],
      "metadata": {
        "id": "qhm6YjVhw8-_"
      },
      "execution_count": null,
      "outputs": []
    },
    {
      "cell_type": "markdown",
      "source": [
        "Chat-Driven Conversion Rate        "
      ],
      "metadata": {
        "id": "y8SE1riwWGpz"
      }
    },
    {
      "cell_type": "code",
      "source": [
        "# -----------------------------\n",
        "# Function to check if chat interaction occurred in a session\n",
        "# -----------------------------\n",
        "def chat_interaction_flag(activity_log):\n",
        "    if pd.isna(activity_log):\n",
        "        return False\n",
        "    return 'interacted with chat' in str(activity_log).lower()\n",
        "\n",
        "# Apply function\n",
        "df['ChatInteraction'] = df['ActivityLog'].apply(chat_interaction_flag)\n",
        "\n",
        "# -----------------------------\n",
        "# Success = chat interaction + added to cart\n",
        "# -----------------------------\n",
        "# Ensure 'AddToCart' column exists and is treated as boolean\n",
        "if 'AddToCart' in df.columns:\n",
        "    df['AddToCart'] = df['AddToCart'].astype(str).str.lower().isin(['true', '1', 'yes'])\n",
        "else:\n",
        "    df['AddToCart'] = False  # fallback if column missing\n",
        "\n",
        "df['ChatSuccess'] = df['ChatInteraction'] & df['AddToCart']\n",
        "\n",
        "# -----------------------------\n",
        "# Aggregate counts\n",
        "# -----------------------------\n",
        "total_chat_sessions = df['ChatInteraction'].sum()\n",
        "chat_success_sessions = df['ChatSuccess'].sum()\n",
        "\n",
        "# Calculate percentage\n",
        "chat_success_percentage = (chat_success_sessions / total_chat_sessions * 100) if total_chat_sessions > 0 else 0\n",
        "\n",
        "# Create summary dataframe\n",
        "chat_success_summary = pd.DataFrame({\n",
        "    'Metric': ['Chat Interaction Success Rate'],\n",
        "    'Percentage': [chat_success_percentage],\n",
        "    'SuccessfulChatSessions': [chat_success_sessions],\n",
        "    'TotalChatSessions': [total_chat_sessions]\n",
        "})\n",
        "\n",
        "print(\"Chat Interaction Success Summary:\")\n",
        "print(chat_success_summary)\n",
        "\n",
        "# -----------------------------\n",
        "# Visualization: Pie Chart\n",
        "# -----------------------------\n",
        "plt.figure(figsize=(6,6))\n",
        "labels = ['Chat & Cart Success', 'Chat Only']\n",
        "sizes = [chat_success_sessions, total_chat_sessions - chat_success_sessions]\n",
        "colors = ['#66b3ff', '#ff9999']\n",
        "plt.pie(sizes, labels=labels, colors=colors, autopct='%1.1f%%', startangle=90)\n",
        "plt.title('Chat Interaction Success Rate')\n",
        "plt.axis('equal')\n",
        "plt.show()\n"
      ],
      "metadata": {
        "id": "SLkz-Z6c0mxz"
      },
      "execution_count": null,
      "outputs": []
    },
    {
      "cell_type": "markdown",
      "source": [
        "Impact of Dietary Preference Count on Conversion Rate        "
      ],
      "metadata": {
        "id": "sneYknZlWTa5"
      }
    },
    {
      "cell_type": "code",
      "source": [
        "\n",
        "# -----------------------------\n",
        "# Treat 'anon' sessions as unique users\n",
        "# -----------------------------\n",
        "df_unique = df.copy()\n",
        "anon_mask = df_unique['UserID'].astype(str).str.lower() == 'anon'\n",
        "df_unique.loc[anon_mask, 'UserID'] = [\n",
        "    f\"anon_{i}\" for i in df_unique.loc[anon_mask].index\n",
        "]\n",
        "\n",
        "# -----------------------------\n",
        "# Calculate number of dietary preferences per user\n",
        "# -----------------------------\n",
        "def count_dietary_prefs(prefs):\n",
        "    if pd.isna(prefs) or prefs.strip() == '':\n",
        "        return 0\n",
        "    return len([p for p in prefs.split(';') if p.strip() != ''])\n",
        "\n",
        "user_prefs = (\n",
        "    df_unique.groupby('UserID', as_index=False)['DietaryPreferences']\n",
        "    .first()\n",
        "    .assign(NumDietaryPrefs=lambda x: x['DietaryPreferences'].apply(count_dietary_prefs))\n",
        ")\n",
        "\n",
        "# -----------------------------\n",
        "# Determine per-user conversion (AddToCart OR RecipeSaved)\n",
        "# -----------------------------\n",
        "for col in ['AddToCart', 'RecipeSaved']:\n",
        "    if col not in df_unique.columns:\n",
        "        df_unique[col] = False  # fallback if missing\n",
        "    else:\n",
        "        df_unique[col] = df_unique[col].astype(str).str.lower().isin(['true', '1', 'yes'])\n",
        "\n",
        "user_conversion = (\n",
        "    df_unique.groupby('UserID', as_index=False)[['AddToCart', 'RecipeSaved']].max()\n",
        ")\n",
        "user_conversion['Converted'] = user_conversion['AddToCart'] | user_conversion['RecipeSaved']\n",
        "\n",
        "# -----------------------------\n",
        "# Merge preferences and conversion data\n",
        "# -----------------------------\n",
        "user_df = pd.merge(\n",
        "    user_prefs[['UserID', 'NumDietaryPrefs']],\n",
        "    user_conversion[['UserID', 'Converted']],\n",
        "    on='UserID',\n",
        "    how='left'\n",
        ")\n",
        "\n",
        "# -----------------------------\n",
        "# Conversion rate by # of dietary preferences\n",
        "# -----------------------------\n",
        "conversion_by_prefs = (\n",
        "    user_df.groupby('NumDietaryPrefs', as_index=False)\n",
        "    .agg(FractionConverted=('Converted', 'mean'),\n",
        "         UserCount=('UserID', 'count'))\n",
        ")\n",
        "conversion_by_prefs['ConversionRate'] = conversion_by_prefs['FractionConverted'] * 100\n",
        "\n",
        "print(\"Conversion by Number of Dietary Preferences:\")\n",
        "print(conversion_by_prefs)\n",
        "\n",
        "\n",
        "# -----------------------------\n",
        "# Visualization\n",
        "# -----------------------------\n",
        "plt.figure(figsize=(8,6))\n",
        "plt.bar(\n",
        "    conversion_by_prefs['NumDietaryPrefs'].astype(str),\n",
        "    conversion_by_prefs['ConversionRate'],\n",
        "    color='#66b3ff',\n",
        "    edgecolor='black'\n",
        ")\n",
        "plt.xlabel('Number of Dietary Preferences')\n",
        "plt.ylabel('Conversion Rate (%)')\n",
        "plt.title('Conversion Rate by Number of Dietary Preferences\\n(anon treated as unique users)')\n",
        "plt.ylim(0, 100)\n",
        "plt.tight_layout()\n",
        "plt.show()\n"
      ],
      "metadata": {
        "id": "MaM754re47q6"
      },
      "execution_count": null,
      "outputs": []
    },
    {
      "cell_type": "markdown",
      "source": [
        "Effectiveness of Initial Recipe Engagement (First Click Efficiency)        "
      ],
      "metadata": {
        "id": "uPfHA09rWlOz"
      }
    },
    {
      "cell_type": "code",
      "source": [
        "# -----------------------------\n",
        "# Helper: extract first viewed recipe\n",
        "# -----------------------------\n",
        "def extract_first_viewed_recipe(activity_log):\n",
        "    if pd.isna(activity_log):\n",
        "        return None\n",
        "    match = re.search(r\"Viewed recipes: \\['([^']+)'\\]\", str(activity_log))\n",
        "    if match:\n",
        "        return match.group(1)\n",
        "    match2 = re.search(r\"Viewed recipes before widget: \\['([^']+)'\\]\", str(activity_log))\n",
        "    if match2:\n",
        "        return match2.group(1)\n",
        "    return None\n",
        "\n",
        "# -----------------------------\n",
        "# Check if first viewed recipe was later saved or added to cart\n",
        "# -----------------------------\n",
        "def check_first_click_success(activity_log):\n",
        "    if pd.isna(activity_log):\n",
        "        return False\n",
        "    first_view = extract_first_viewed_recipe(activity_log)\n",
        "    if not first_view:\n",
        "        return False\n",
        "\n",
        "    added_to_cart = re.findall(r\"Added to cart: \\['([^']+)'\\]\", str(activity_log))\n",
        "    saved_recipe = re.findall(r\"Saved recipe: \\['([^']+)'\\]\", str(activity_log))\n",
        "    return first_view in added_to_cart or first_view in saved_recipe\n",
        "\n",
        "# -----------------------------\n",
        "# Apply logic\n",
        "# -----------------------------\n",
        "df['FirstClickSuccess'] = df['ActivityLog'].apply(check_first_click_success)\n",
        "\n",
        "# -----------------------------\n",
        "# Calculate metrics\n",
        "# -----------------------------\n",
        "success_count = df['FirstClickSuccess'].sum()\n",
        "not_success_count = len(df) - success_count\n",
        "\n",
        "fce_summary = pd.DataFrame({\n",
        "    'Status': ['First Click Successful', 'Not Successful'],\n",
        "    'UserCount': [success_count, not_success_count],\n",
        "    'Percentage': [\n",
        "        round((success_count / len(df)) * 100, 2) if len(df) > 0 else 0,\n",
        "        round((not_success_count / len(df)) * 100, 2) if len(df) > 0 else 0\n",
        "    ]\n",
        "})\n",
        "\n",
        "print(f\"First Click Efficiency (FCE): {fce_summary.loc[0,'Percentage']:.2f}%\")\n",
        "print(fce_summary)\n",
        "\n",
        "# -----------------------------\n",
        "# Visualization: Pie chart\n",
        "# -----------------------------\n",
        "plt.figure(figsize=(6, 6))\n",
        "plt.pie(\n",
        "    fce_summary['UserCount'],\n",
        "    labels=fce_summary['Status'],\n",
        "    autopct='%1.1f%%',\n",
        "    startangle=140,\n",
        "    colors=['#6CC24A', '#E57373']\n",
        ")\n",
        "plt.title('First Click Efficiency (FCE)')\n",
        "plt.tight_layout()\n",
        "plt.show()\n"
      ],
      "metadata": {
        "id": "DfAH5CGNtkdQ"
      },
      "execution_count": null,
      "outputs": []
    },
    {
      "cell_type": "markdown",
      "source": [
        "First Session Conversion Rate        "
      ],
      "metadata": {
        "id": "vwsUEN8jXIyZ"
      }
    },
    {
      "cell_type": "code",
      "source": [
        "# --- Filter out anonymous users ---\n",
        "df_registered = df[~df['UserID'].str.contains('anon', case=False, na=False)].copy()\n",
        "\n",
        "# --- Convert SessionStart safely ---\n",
        "df_registered['SessionStart'] = pd.to_datetime(\n",
        "    df_registered['SessionStart'],\n",
        "    errors='coerce'\n",
        ")\n",
        "\n",
        "# --- Sort by user and session start ---\n",
        "df_registered = df_registered.sort_values(by=['UserID', 'SessionStart'])\n",
        "\n",
        "# --- Select each user's first session ---\n",
        "first_sessions = df_registered.groupby('UserID').first().reset_index()\n",
        "\n",
        "# --- Determine conversion (AddToCart == TRUE) ---\n",
        "first_sessions['Converted'] = first_sessions['AddToCart'].apply(\n",
        "    lambda x: str(x).strip().lower() == 'true'\n",
        ")\n",
        "\n",
        "# --- Calculate metrics ---\n",
        "total_users = first_sessions['UserID'].nunique()\n",
        "converted_users = first_sessions[first_sessions['Converted']]['UserID'].nunique()\n",
        "conversion_rate = (converted_users / total_users) * 100 if total_users > 0 else 0\n",
        "\n",
        "# --- Create summary dataframe ---\n",
        "conversion_summary = pd.DataFrame({\n",
        "    'Metric': ['First Session Conversion Rate'],\n",
        "    'Conversion Rate (%)': [round(conversion_rate, 2)],\n",
        "    'Total Registered Users': [total_users],\n",
        "    'Converted Users': [converted_users],\n",
        "    'Not Converted': [total_users - converted_users]\n",
        "})\n",
        "\n",
        "print(f\"First Session Conversion Rate: {conversion_rate:.2f}%\")\n",
        "print(conversion_summary)\n",
        "\n",
        "# --- Visualization: Pie Chart ---\n",
        "labels = ['Converted', 'Not Converted']\n",
        "values = [converted_users, total_users - converted_users]\n",
        "\n",
        "plt.figure(figsize=(6, 6))\n",
        "plt.pie(\n",
        "    values,\n",
        "    labels=labels,\n",
        "    autopct='%1.1f%%',\n",
        "    startangle=90,\n",
        "    textprops={'fontsize': 12},\n",
        "    colors=['#66b3ff', '#ff9999']\n",
        ")\n",
        "plt.title('First Session Conversion Rate', fontsize=14)\n",
        "plt.tight_layout()\n",
        "plt.show()\n"
      ],
      "metadata": {
        "id": "eU9NeygExH0x"
      },
      "execution_count": null,
      "outputs": []
    },
    {
      "cell_type": "markdown",
      "source": [
        "Interaction Intensity vs Session Duration        "
      ],
      "metadata": {
        "id": "Lw0d-fN9Xtlp"
      }
    },
    {
      "cell_type": "code",
      "source": [
        "# --- Normalize column names ---\n",
        "df.columns = df.columns.str.strip().str.lower()\n",
        "\n",
        "# --- Ensure session duration exists ---\n",
        "df['sessionstart'] = pd.to_datetime(df['sessionstart'], errors='coerce')\n",
        "df['sessionend'] = pd.to_datetime(df['sessionend'], errors='coerce')\n",
        "df['session_duration_min'] = (df['sessionend'] - df['sessionstart']).dt.total_seconds() / 60\n",
        "df = df[df['session_duration_min'] > 0]  # Remove non-positive durations\n",
        "\n",
        "# --- Parse ActivityLog for extra interactions ---\n",
        "def count_activitylog_interactions(log):\n",
        "    if pd.isna(log):\n",
        "        return 0\n",
        "    log = str(log).lower()\n",
        "    count = 0\n",
        "    actions = ['widget opened', 'interacted with chat', 'viewed recipes', 'searched for recipes']\n",
        "    for action in actions:\n",
        "        if action in log:\n",
        "            count += 1\n",
        "    return count\n",
        "\n",
        "df['activitylog_count'] = df['activitylog'].apply(count_activitylog_interactions)\n",
        "\n",
        "# --- Count other key interactions safely ---\n",
        "def bool_to_int(x):\n",
        "    if pd.isna(x):\n",
        "        return 0\n",
        "    if str(x).strip().lower() in ['true', '1']:\n",
        "        return 1\n",
        "    return 0\n",
        "\n",
        "df['addtocart_count'] = df['addtocart'].apply(bool_to_int)\n",
        "df['recipesaved_count'] = df['recipesaved'].apply(bool_to_int)\n",
        "df['tabchange_count'] = df['tabchange'].apply(bool_to_int)\n",
        "\n",
        "# --- Total key interactions per session ---\n",
        "df['total_interactions'] = (\n",
        "    df['activitylog_count'] +\n",
        "    df['addtocart_count'] +\n",
        "    df['recipesaved_count'] +\n",
        "    df['tabchange_count']\n",
        ")\n",
        "\n",
        "# --- Interaction Score per session ---\n",
        "df['interaction_score'] = df['total_interactions'] / df['session_duration_min']\n",
        "\n",
        "# === Summary ===\n",
        "avg_score = df['interaction_score'].mean()\n",
        "print(f\"Average Interaction Score per session: {avg_score:.2f}\")\n",
        "\n",
        "# === Visualization: Histogram of Interaction Scores ===\n",
        "plt.figure(figsize=(10, 6))\n",
        "plt.hist(df['interaction_score'], bins=20, edgecolor='black', color=\"#66b3ff\")\n",
        "plt.title(\"Distribution of Interaction Scores per Session\")\n",
        "plt.xlabel(\"Interaction Score (interactions per minute)\")\n",
        "plt.ylabel(\"Number of Sessions\")\n",
        "plt.tight_layout()\n",
        "plt.show()\n"
      ],
      "metadata": {
        "id": "efW3vxov4L8Z"
      },
      "execution_count": null,
      "outputs": []
    },
    {
      "cell_type": "markdown",
      "source": [
        "User Return Interval        "
      ],
      "metadata": {
        "id": "llO0I7aeX7by"
      }
    },
    {
      "cell_type": "code",
      "source": [
        "df.columns = df.columns.str.strip().str.lower()\n",
        "\n",
        "# --- Ensure SessionStart and SessionEnd are datetime ---\n",
        "df['sessionstart'] = pd.to_datetime(df['sessionstart'], errors='coerce')\n",
        "df['sessionend'] = pd.to_datetime(df['sessionend'], errors='coerce')\n",
        "\n",
        "# --- Remove rows with invalid dates ---\n",
        "df = df.dropna(subset=['sessionstart', 'sessionend'])\n",
        "\n",
        "# --- Sort by UserID and SessionStart ---\n",
        "df = df.sort_values(['userid', 'sessionstart'])\n",
        "\n",
        "# --- Calculate gaps between consecutive sessions per user ---\n",
        "df['previous_session_end'] = df.groupby('userid')['sessionend'].shift(1)\n",
        "df['gap_minutes'] = (df['sessionstart'] - df['previous_session_end']).dt.total_seconds() / 60\n",
        "\n",
        "# --- Average gap per user (for visualization) ---\n",
        "avg_gap_per_user = df.groupby('userid')['gap_minutes'].mean().reset_index()\n",
        "avg_gap_per_user.rename(columns={'gap_minutes': 'avg_gap_minutes'}, inplace=True)\n",
        "\n",
        "# --- Overall average gap for info ---\n",
        "overall_avg_gap = avg_gap_per_user['avg_gap_minutes'].mean()\n",
        "print(f\"Overall Average Gap Between Sessions: {overall_avg_gap:.2f} minutes\")\n",
        "\n",
        "# --- Visualization ---\n",
        "plt.figure(figsize=(10, 6))\n",
        "plt.hist(avg_gap_per_user['avg_gap_minutes'].dropna(), bins=20, edgecolor='black', color=\"#66b3ff\")\n",
        "plt.title(\"Distribution of Average Gap Between Sessions per User\")\n",
        "plt.xlabel(\"Average Gap (minutes)\")\n",
        "plt.ylabel(\"Number of Users\")\n",
        "plt.tight_layout()\n",
        "plt.show()\n"
      ],
      "metadata": {
        "id": "FJAZ2Uf-6wvu"
      },
      "execution_count": null,
      "outputs": []
    },
    {
      "cell_type": "markdown",
      "source": [
        "Cross-Device User Distribution Analysis        "
      ],
      "metadata": {
        "id": "0ZALq4usYIHZ"
      }
    },
    {
      "cell_type": "code",
      "source": [
        "df.columns = df.columns.str.strip().str.lower()\n",
        "\n",
        "# --- Ensure columns exist ---\n",
        "if 'userid' not in df.columns or 'device' not in df.columns:\n",
        "    raise ValueError(\"Columns 'UserID' and 'Device' must exist in the dataset.\")\n",
        "\n",
        "# --- Count unique devices per user ---\n",
        "device_count_per_user = df.groupby('userid')['device'].nunique().reset_index()\n",
        "device_count_per_user.rename(columns={'device': 'unique_devices'}, inplace=True)\n",
        "\n",
        "# --- Identify cross-device users (more than 1 device) ---\n",
        "device_count_per_user['cross_device_user'] = device_count_per_user['unique_devices'].apply(lambda x: 1 if x > 1 else 0)\n",
        "\n",
        "# --- Calculate counts for visualization ---\n",
        "single_device_count = (device_count_per_user['cross_device_user'] == 0).sum()\n",
        "cross_device_count = (device_count_per_user['cross_device_user'] == 1).sum()\n",
        "\n",
        "# --- Summary printout ---\n",
        "total_users = len(device_count_per_user)\n",
        "cross_device_percentage = (cross_device_count / total_users) * 100 if total_users > 0 else 0\n",
        "print(f\"Cross-Device Users: {cross_device_count} / {total_users} ({cross_device_percentage:.2f}%)\")\n",
        "\n",
        "# --- Visualization ---\n",
        "plt.figure(figsize=(6, 5))\n",
        "plt.bar(['Single Device', 'Cross-Device Users'],\n",
        "        [single_device_count, cross_device_count],\n",
        "        color=['#66b3ff', '#ff6666'])\n",
        "plt.title(\"Percentage of Cross-Device Users\")\n",
        "plt.ylabel(\"Number of Users\")\n",
        "plt.tight_layout()\n",
        "plt.show()\n"
      ],
      "metadata": {
        "id": "DaxFRM1s9RoC"
      },
      "execution_count": null,
      "outputs": []
    },
    {
      "cell_type": "markdown",
      "source": [
        "New Ingredient Adoption Rate       "
      ],
      "metadata": {
        "id": "r20Lx34FYimv"
      }
    },
    {
      "cell_type": "code",
      "source": [
        "# --- Ensure necessary columns exist ---\n",
        "if 'addedtocartitems' not in df.columns or 'pantry' not in df.columns:\n",
        "    raise ValueError(\"Columns 'AddedToCartItems' and 'Pantry' must exist in the dataset.\")\n",
        "\n",
        "# --- Function to compute new ingredients in cart ---\n",
        "def has_new_ingredients(cart_str, pantry_str):\n",
        "    cart_set = set([i.strip() for i in str(cart_str).split(\";\") if i.strip() != \"\"])\n",
        "    pantry_set = set([i.strip() for i in str(pantry_str).split(\";\") if i.strip() != \"\"])\n",
        "    new_ingredients = cart_set - pantry_set\n",
        "    return 1 if new_ingredients else 0  # 1 if at least one new ingredient, else 0\n",
        "\n",
        "# --- Compute flag per session ---\n",
        "df['new_ingredient_flag'] = df.apply(lambda x: has_new_ingredients(x['addedtocartitems'], x['pantry']), axis=1)\n",
        "\n",
        "# --- Count sessions with and without new ingredients ---\n",
        "no_new = (df['new_ingredient_flag'] == 0).sum()\n",
        "with_new = (df['new_ingredient_flag'] == 1).sum()\n",
        "\n",
        "total_sessions = no_new + with_new\n",
        "percent_with_new = (with_new / total_sessions) * 100 if total_sessions > 0 else 0\n",
        "print(f\"Sessions with new ingredients: {with_new}/{total_sessions} ({percent_with_new:.2f}%)\")\n",
        "\n",
        "# --- Pie chart visualization ---\n",
        "plt.figure(figsize=(6, 6))\n",
        "plt.pie(\n",
        "    [no_new, with_new],\n",
        "    labels=['Sessions without new ingredients', 'Sessions with new ingredients'],\n",
        "    autopct='%1.1f%%',\n",
        "    colors=['#66b3ff', '#ff6666'],\n",
        "    startangle=90\n",
        ")\n",
        "plt.title(\"Sessions with New Ingredients (Not in Pantry)\")\n",
        "plt.tight_layout()\n",
        "plt.show()\n"
      ],
      "metadata": {
        "id": "XJB5_Fpd-s_h"
      },
      "execution_count": null,
      "outputs": []
    },
    {
      "cell_type": "markdown",
      "source": [
        "Recipe View–to–Conversion Relationship        "
      ],
      "metadata": {
        "id": "5zjgYQ9rY4Ok"
      }
    },
    {
      "cell_type": "code",
      "source": [
        "df = pd.read_csv(\"/content/merged_input.csv\")\n",
        "df.columns = df.columns.str.strip().str.lower()\n",
        "\n",
        "# --- Ensure necessary columns exist ---\n",
        "required_cols = ['userid', 'viewedrecipes', 'recipesaved', 'addtocart']\n",
        "for col in required_cols:\n",
        "    if col not in df.columns:\n",
        "        raise ValueError(f\"Missing required column: '{col}' in dataset.\")\n",
        "\n",
        "# --- Helper functions ---\n",
        "def count_recipes(viewed_str):\n",
        "    \"\"\"Count number of recipes viewed in a session\"\"\"\n",
        "    if pd.isna(viewed_str) or str(viewed_str).strip() == \"\":\n",
        "        return 0\n",
        "    return len([x.strip() for x in str(viewed_str).split(\";\") if x.strip()])\n",
        "\n",
        "def bool_to_int(val):\n",
        "    \"\"\"Convert boolean-like to 0/1\"\"\"\n",
        "    if pd.isna(val):\n",
        "        return 0\n",
        "    val = str(val).strip().lower()\n",
        "    if val in ['true', '1', 'yes']:\n",
        "        return 1\n",
        "    return 0\n",
        "\n",
        "# --- Apply transformations ---\n",
        "df['recipes_viewed_count'] = df['viewedrecipes'].apply(count_recipes)\n",
        "df['saved_flag'] = df['recipesaved'].apply(bool_to_int)\n",
        "df['carted_flag'] = df['addtocart'].apply(bool_to_int)\n",
        "\n",
        "# --- Conversion flag (recipe saved or added to cart) ---\n",
        "df['conversion_flag'] = df[['saved_flag', 'carted_flag']].max(axis=1)\n",
        "\n",
        "# --- Group by number of recipes viewed ---\n",
        "grouped = df.groupby('recipes_viewed_count', as_index=False).agg(\n",
        "    total_sessions=('userid', 'count'),\n",
        "    converted_sessions=('conversion_flag', 'sum')\n",
        ")\n",
        "grouped['conversion_rate'] = grouped['converted_sessions'] / grouped['total_sessions']\n",
        "grouped = grouped.sort_values(by='recipes_viewed_count')\n",
        "\n",
        "# --- Print key results ---\n",
        "print(\"Effect of Number of Recipes Viewed on Conversion:\")\n",
        "print(grouped)\n",
        "\n",
        "# --- Visualization ---\n",
        "plt.figure(figsize=(7, 5))\n",
        "plt.plot(\n",
        "    grouped['recipes_viewed_count'],\n",
        "    grouped['conversion_rate'] * 100,\n",
        "    marker='o',\n",
        "    linewidth=2,\n",
        "    color='#007acc'\n",
        ")\n",
        "plt.title(\"Effect of Number of Recipes Viewed on Conversion\")\n",
        "plt.xlabel(\"Number of Recipes Viewed in Session\")\n",
        "plt.ylabel(\"Conversion Rate (%)\")\n",
        "plt.grid(True, linestyle='--', alpha=0.6)\n",
        "plt.tight_layout()\n",
        "plt.show()\n"
      ],
      "metadata": {
        "id": "SOmlnSS11jDv"
      },
      "execution_count": null,
      "outputs": []
    },
    {
      "cell_type": "markdown",
      "source": [
        "Effect of Widget Duration on Conversion        "
      ],
      "metadata": {
        "id": "iqBJcfLOZy9R"
      }
    },
    {
      "cell_type": "code",
      "source": [
        "df.columns = df.columns.str.strip().str.lower()\n",
        "\n",
        "# --- Ensure required columns exist ---\n",
        "required_cols = ['userid', 'widgetduration', 'recipesaved', 'addtocart']\n",
        "for col in required_cols:\n",
        "    if col not in df.columns:\n",
        "        raise ValueError(f\"Missing required column: '{col}' in dataset.\")\n",
        "\n",
        "# --- Helper function ---\n",
        "def bool_to_int(val):\n",
        "    if pd.isna(val):\n",
        "        return 0\n",
        "    if str(val).strip().lower() in ['true', '1', 'yes']:\n",
        "        return 1\n",
        "    return 0\n",
        "\n",
        "# --- Convert conversion columns to numeric flags ---\n",
        "df['recipesaved_flag'] = df['recipesaved'].apply(bool_to_int)\n",
        "df['addtocart_flag'] = df['addtocart'].apply(bool_to_int)\n",
        "\n",
        "# --- Total conversion flag per session ---\n",
        "df['conversion_flag'] = ((df['recipesaved_flag'] + df['addtocart_flag']) > 0).astype(int)\n",
        "\n",
        "# --- Handle widget duration ---\n",
        "df['widgetduration'] = pd.to_numeric(df['widgetduration'], errors='coerce').fillna(0)\n",
        "\n",
        "# --- Group into 0.5 second intervals ---\n",
        "df['duration_bin'] = (np.floor(df['widgetduration'] / 0.5) * 0.5).astype(float)\n",
        "\n",
        "# --- Compute conversion rate per bin ---\n",
        "conversion_summary = df.groupby('duration_bin').agg(\n",
        "    sessions=('userid', 'count'),\n",
        "    conversions=('conversion_flag', 'sum')\n",
        ").reset_index()\n",
        "conversion_summary['conversion_rate'] = (\n",
        "    conversion_summary['conversions'] / conversion_summary['sessions']\n",
        ").round(4)\n",
        "\n",
        "# --- Print summary ---\n",
        "print(\"✅ Conversion by Widget Duration (0.5s bins):\")\n",
        "print(conversion_summary.head(10))\n",
        "\n",
        "# --- Visualization ---\n",
        "plt.figure(figsize=(8, 5))\n",
        "plt.plot(conversion_summary['duration_bin'], conversion_summary['conversion_rate'] * 100, marker='o', color='#007acc')\n",
        "plt.title(\"Effect of Widget Duration on Conversion\")\n",
        "plt.xlabel(\"Widget Duration (seconds, binned by 0.5s)\")\n",
        "plt.ylabel(\"Conversion Rate (%)\")\n",
        "plt.grid(True, linestyle='--', alpha=0.6)\n",
        "plt.tight_layout()\n",
        "plt.show()\n"
      ],
      "metadata": {
        "id": "wAi-ZGy82Uht"
      },
      "execution_count": null,
      "outputs": []
    },
    {
      "cell_type": "markdown",
      "source": [
        "Search-to-Cart Efficiency Analysis        "
      ],
      "metadata": {
        "id": "8jKdIb9xaL2v"
      }
    },
    {
      "cell_type": "code",
      "source": [
        "df.columns = df.columns.str.strip().str.lower()\n",
        "\n",
        "# --- Check for required columns ---\n",
        "required_cols = ['userid', 'recipesearch', 'addtocart']\n",
        "for col in required_cols:\n",
        "    if col not in df.columns:\n",
        "        raise ValueError(f\"Missing required column: '{col}' in dataset.\")\n",
        "\n",
        "# --- Helper function to standardize boolean/flag columns ---\n",
        "def to_bool(val):\n",
        "    if pd.isna(val):\n",
        "        return False\n",
        "    val_str = str(val).strip().lower()\n",
        "    return val_str in ['true', '1', 'yes', 'y']\n",
        "\n",
        "# --- Apply conversion ---\n",
        "df['recipesearch_flag'] = df['recipesearch'].apply(to_bool)\n",
        "df['addtocart_flag'] = df['addtocart'].apply(to_bool)\n",
        "\n",
        "# --- Calculate per-session metrics ---\n",
        "df['search_to_cart'] = df.apply(\n",
        "    lambda x: 1 if x['recipesearch_flag'] and x['addtocart_flag'] else 0, axis=1\n",
        ")\n",
        "\n",
        "# --- Compute overall metric ---\n",
        "total_search_sessions = len(df[df['recipesearch_flag']])\n",
        "search_and_cart_sessions = df['search_to_cart'].sum()\n",
        "search_to_cart_efficiency = (search_and_cart_sessions / total_search_sessions * 100) if total_search_sessions > 0 else 0\n",
        "\n",
        "print(f\"Search-to-Cart Efficiency: {search_to_cart_efficiency:.2f}% \"\n",
        "      f\"({search_and_cart_sessions}/{total_search_sessions} search sessions resulted in cart)\")\n",
        "\n",
        "# --- Partner-level breakdown (if PartnerID exists) ---\n",
        "if 'partnerid' in df.columns:\n",
        "    summary = df.groupby('partnerid').agg(\n",
        "        total_sessions=('userid', 'count'),\n",
        "        search_sessions=('recipesearch_flag', 'sum'),\n",
        "        search_and_cart=('search_to_cart', 'sum')\n",
        "    ).reset_index()\n",
        "    summary['search_to_cart_efficiency_%'] = (\n",
        "        summary['search_and_cart'] / summary['search_sessions'] * 100\n",
        "    ).round(2)\n",
        "else:\n",
        "    summary = pd.DataFrame({\n",
        "        'Metric': ['Search-to-Cart Efficiency (%)'],\n",
        "        'Value': [round(search_to_cart_efficiency, 2)]\n",
        "    })\n",
        "\n",
        "# --- Visualization ---\n",
        "plt.figure(figsize=(8,6))\n",
        "if 'partnerid' in summary.columns:\n",
        "    plt.bar(summary['partnerid'], summary['search_to_cart_efficiency_%'], color='#66b3ff')\n",
        "    plt.title(\"Search-to-Cart Efficiency by Partner\")\n",
        "    plt.xlabel(\"Partner ID\")\n",
        "    plt.ylabel(\"Efficiency (%)\")\n",
        "    plt.xticks(rotation=45)\n",
        "else:\n",
        "    plt.bar(['Search-to-Cart Efficiency'], [search_to_cart_efficiency], color='#66b3ff')\n",
        "    plt.ylabel(\"Efficiency (%)\")\n",
        "    plt.title(\"Overall Search-to-Cart Efficiency\")\n",
        "\n",
        "plt.tight_layout()\n",
        "plt.show()\n"
      ],
      "metadata": {
        "id": "VvtrihH7A9CX"
      },
      "execution_count": null,
      "outputs": []
    },
    {
      "cell_type": "markdown",
      "source": [
        "Zero-Interaction Session Analysis by Partner       "
      ],
      "metadata": {
        "id": "UBb09Bu-aYBl"
      }
    },
    {
      "cell_type": "code",
      "source": [
        "df.columns = df.columns.str.strip().str.lower()\n",
        "\n",
        "# --- Check for required columns ---\n",
        "required_cols = ['userid', 'partnerid', 'addtocart', 'recipesaved', 'addtopantryitems', 'viewedrecipes']\n",
        "for col in required_cols:\n",
        "    if col not in df.columns:\n",
        "        raise ValueError(f\"Missing required column: '{col}' in dataset.\")\n",
        "\n",
        "# --- Helper functions ---\n",
        "def bool_to_int(val):\n",
        "    if pd.isna(val):\n",
        "        return 0\n",
        "    val_str = str(val).strip().lower()\n",
        "    return 1 if val_str in ['true', '1', 'yes', 'y'] else 0\n",
        "\n",
        "def has_value(val):\n",
        "    \"\"\"Return 1 if the value is non-empty and not NaN\"\"\"\n",
        "    if pd.isna(val) or str(val).strip() == '':\n",
        "        return 0\n",
        "    return 1\n",
        "\n",
        "# --- Convert engagement signals ---\n",
        "df['addtocart_flag'] = df['addtocart'].apply(bool_to_int)\n",
        "df['recipesaved_flag'] = df['recipesaved'].apply(bool_to_int)\n",
        "df['addtopantry_flag'] = df['addtopantryitems'].apply(has_value)\n",
        "df['viewedrecipes_flag'] = df['viewedrecipes'].apply(has_value)\n",
        "\n",
        "# --- Identify zero interaction sessions ---\n",
        "df['zero_interaction'] = (\n",
        "    (df['addtocart_flag'] +\n",
        "     df['recipesaved_flag'] +\n",
        "     df['addtopantry_flag'] +\n",
        "     df['viewedrecipes_flag']) == 0\n",
        ").astype(int)\n",
        "\n",
        "# --- Compute overall zero interaction rate ---\n",
        "total_sessions = len(df)\n",
        "zero_sessions = df['zero_interaction'].sum()\n",
        "zero_interaction_rate = (zero_sessions / total_sessions * 100) if total_sessions > 0 else 0\n",
        "\n",
        "print(f\"Overall Zero Interaction Rate: {zero_interaction_rate:.2f}% \"\n",
        "      f\"({zero_sessions}/{total_sessions} sessions)\")\n",
        "\n",
        "# --- Group-level summary (by PartnerID) ---\n",
        "summary = df.groupby('partnerid').agg(\n",
        "    total_sessions=('userid', 'count'),\n",
        "    zero_sessions=('zero_interaction', 'sum')\n",
        ").reset_index()\n",
        "\n",
        "summary['active_sessions'] = summary['total_sessions'] - summary['zero_sessions']\n",
        "summary['zero_interaction_pct'] = (summary['zero_sessions'] / summary['total_sessions'] * 100).round(2)\n",
        "\n",
        "print(\"\\nZero Interaction Sessions Summary (first 10 rows):\")\n",
        "print(summary.head(10))\n",
        "\n",
        "# --- Visualization ---\n",
        "plt.figure(figsize=(9,6))\n",
        "plt.bar(summary['partnerid'], summary['zero_interaction_pct'], color='#ff6666', label='Zero Interaction %')\n",
        "plt.title(\"Zero Interaction Sessions by Partner\")\n",
        "plt.xlabel(\"Partner ID\")\n",
        "plt.ylabel(\"Zero Interaction (%)\")\n",
        "plt.xticks(rotation=45)\n",
        "plt.tight_layout()\n",
        "plt.show()\n"
      ],
      "metadata": {
        "id": "Qv43RlMDBur6"
      },
      "execution_count": null,
      "outputs": []
    },
    {
      "cell_type": "markdown",
      "source": [
        "Device-Based Widget Engagement vs Conversion Rate        "
      ],
      "metadata": {
        "id": "a2z2IrSXa4jL"
      }
    },
    {
      "cell_type": "code",
      "source": [
        "# Normalize headers\n",
        "df.columns = df.columns.str.strip().str.lower()\n",
        "\n",
        "# --------------------------\n",
        "# Check for required columns\n",
        "# --------------------------\n",
        "required_cols = ['widgetduration', 'addtocart', 'recipesaved', 'device']\n",
        "for col in required_cols:\n",
        "    if col not in df.columns:\n",
        "        raise ValueError(f\"Missing required column: '{col}' in dataset.\")\n",
        "\n",
        "# --------------------------\n",
        "# Clean and preprocess\n",
        "# --------------------------\n",
        "df['widgetduration'] = pd.to_numeric(df['widgetduration'], errors='coerce').fillna(0)\n",
        "\n",
        "# Define conversion\n",
        "df['converted'] = (df['addtocart'] == True) | (df['recipesaved'] == True)\n",
        "\n",
        "# --------------------------\n",
        "# Create Widget Duration Bins\n",
        "# --------------------------\n",
        "bin_edges = [0, 2, 4, 6, 8, 10, 15, 20, 30]\n",
        "bin_labels = ['0-2s', '2-4s', '4-6s', '6-8s', '8-10s', '10-15s', '15-20s', '20-30s']\n",
        "df['widgetduration_bin'] = pd.cut(df['widgetduration'], bins=bin_edges, labels=bin_labels, right=False)\n",
        "\n",
        "# --------------------------\n",
        "# Calculate conversion metrics by Device and Widget Duration Bin\n",
        "# --------------------------\n",
        "group_cols = ['device', 'widgetduration_bin']\n",
        "summary_df = df.groupby(group_cols).agg(\n",
        "    total_sessions=('converted', 'count'),\n",
        "    converted_sessions=('converted', 'sum'),\n",
        "    avg_widget_duration=('widgetduration', 'mean')\n",
        ").reset_index()\n",
        "\n",
        "summary_df['conversion_rate'] = (summary_df['converted_sessions'] / summary_df['total_sessions']) * 100\n",
        "\n",
        "print(\"Widget Engagement vs Conversion Summary:\")\n",
        "print(summary_df.head(10))\n",
        "\n",
        "\n",
        "# --------------------------\n",
        "# Visualization: Heatmap\n",
        "# --------------------------\n",
        "heatmap_df = summary_df.pivot(index='device', columns='widgetduration_bin', values='conversion_rate')\n",
        "\n",
        "plt.figure(figsize=(10,6))\n",
        "sns.heatmap(heatmap_df, annot=True, fmt=\".1f\", cmap='coolwarm', cbar_kws={'label': 'Conversion Rate (%)'})\n",
        "plt.title('Conversion Rate Heatmap by Device and Widget Duration')\n",
        "plt.xlabel('Widget Duration Bin (seconds)')\n",
        "plt.ylabel('Device')\n",
        "plt.tight_layout()\n",
        "plt.show()\n"
      ],
      "metadata": {
        "id": "tIEQoLzfsa3H"
      },
      "execution_count": null,
      "outputs": []
    },
    {
      "cell_type": "markdown",
      "source": [
        "Partner–Device Conversion Impact       "
      ],
      "metadata": {
        "id": "00kAlsN1bOLr"
      }
    },
    {
      "cell_type": "code",
      "source": [
        "df.columns = df.columns.str.strip().str.lower()\n",
        "\n",
        "# --- Helper function to convert to boolean flag ---\n",
        "def to_flag(val):\n",
        "    if pd.isna(val):\n",
        "        return 0\n",
        "    val_str = str(val).strip().lower()\n",
        "    return 1 if val_str in ['true', '1', 'yes'] else 0\n",
        "\n",
        "# --- Conversion Logic ---\n",
        "df['addtocart_flag'] = df['addtocart'].apply(to_flag)\n",
        "df['recipesaved_flag'] = df['recipesaved'].apply(to_flag)\n",
        "df['converted'] = ((df['addtocart_flag'] + df['recipesaved_flag']) > 0).astype(int)\n",
        "\n",
        "# --- Validate required columns ---\n",
        "required_cols = ['partnerid', 'device']\n",
        "for col in required_cols:\n",
        "    if col not in df.columns:\n",
        "        raise ValueError(f\"Missing required column: {col}\")\n",
        "\n",
        "# --- Group by PartnerID and Device ---\n",
        "summary_df = df.groupby(['partnerid', 'device']).agg(\n",
        "    total_sessions=('userid', 'count'),\n",
        "    converted_sessions=('converted', 'sum')\n",
        ").reset_index()\n",
        "\n",
        "# --- Conversion rate ---\n",
        "summary_df['conversion_rate'] = (summary_df['converted_sessions'] / summary_df['total_sessions'] * 100).round(2)\n",
        "\n",
        "print(\"Partner–Device Conversion Impact Summary:\")\n",
        "print(summary_df.head())\n",
        "\n",
        "# --- Visualization: Scatter Plot ---\n",
        "plt.figure(figsize=(9,6))\n",
        "plt.scatter(summary_df['partnerid'], summary_df['conversion_rate'],\n",
        "            s=summary_df['total_sessions']*5,  # bubble size based on session count\n",
        "            c=summary_df['conversion_rate'], cmap='coolwarm', alpha=0.7, edgecolor='k')\n",
        "plt.title(\"Partner–Device Conversion Impact\")\n",
        "plt.xlabel(\"Partner ID\")\n",
        "plt.ylabel(\"Conversion Rate (%)\")\n",
        "plt.xticks(rotation=45)\n",
        "plt.colorbar(label='Conversion Rate (%)')\n",
        "plt.tight_layout()\n",
        "plt.show()\n",
        "\n"
      ],
      "metadata": {
        "id": "QmhzctYbZXeV",
        "collapsed": true
      },
      "execution_count": null,
      "outputs": []
    }
  ]
}